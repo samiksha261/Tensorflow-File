{
  "nbformat": 4,
  "nbformat_minor": 0,
  "metadata": {
    "colab": {
      "provenance": [],
      "authorship_tag": "ABX9TyPRtdhprW0ADI2lZWC47R0l",
      "include_colab_link": true
    },
    "kernelspec": {
      "name": "python3",
      "display_name": "Python 3"
    },
    "language_info": {
      "name": "python"
    }
  },
  "cells": [
    {
      "cell_type": "markdown",
      "metadata": {
        "id": "view-in-github",
        "colab_type": "text"
      },
      "source": [
        "<a href=\"https://colab.research.google.com/github/samiksha261/Tensorflow-File/blob/main/17_Tokenizer_NLP.ipynb\" target=\"_parent\"><img src=\"https://colab.research.google.com/assets/colab-badge.svg\" alt=\"Open In Colab\"/></a>"
      ]
    },
    {
      "cell_type": "code",
      "execution_count": 1,
      "metadata": {
        "id": "XiCNS5jA4JJL"
      },
      "outputs": [],
      "source": [
        "from tensorflow.keras.preprocessing.text import Tokenizer"
      ]
    },
    {
      "cell_type": "code",
      "source": [
        "sentences = [\"my favorite food is ice cream\",\n",
        "            \"do you like ice cream too\"]"
      ],
      "metadata": {
        "id": "SXDQ1ipg4NuV"
      },
      "execution_count": 2,
      "outputs": []
    },
    {
      "cell_type": "code",
      "source": [
        "tokenizer = Tokenizer(num_words=100,oov_token='<OOV>')"
      ],
      "metadata": {
        "id": "uFH0oET24c6d"
      },
      "execution_count": 3,
      "outputs": []
    },
    {
      "cell_type": "code",
      "source": [
        "\n",
        "tokenizer.fit_on_texts(sentences)"
      ],
      "metadata": {
        "id": "QNkBuHbN4eiQ"
      },
      "execution_count": 4,
      "outputs": []
    },
    {
      "cell_type": "code",
      "source": [
        "word_index = tokenizer.word_index"
      ],
      "metadata": {
        "id": "Q0VttXDx4fZe"
      },
      "execution_count": 5,
      "outputs": []
    },
    {
      "cell_type": "code",
      "source": [
        "print(word_index)"
      ],
      "metadata": {
        "colab": {
          "base_uri": "https://localhost:8080/"
        },
        "id": "KnkM__Ie4hJP",
        "outputId": "0c036503-d7ee-4cf2-91fb-9c72d7d38d07"
      },
      "execution_count": 6,
      "outputs": [
        {
          "output_type": "stream",
          "name": "stdout",
          "text": [
            "{'<OOV>': 1, 'ice': 2, 'cream': 3, 'my': 4, 'favorite': 5, 'food': 6, 'is': 7, 'do': 8, 'you': 9, 'like': 10, 'too': 11}\n"
          ]
        }
      ]
    },
    {
      "cell_type": "code",
      "source": [
        "\n",
        "sequences = tokenizer.texts_to_sequences(sentences)"
      ],
      "metadata": {
        "id": "fY2MjWhU4h-V"
      },
      "execution_count": 7,
      "outputs": []
    },
    {
      "cell_type": "code",
      "source": [
        "print(sequences)"
      ],
      "metadata": {
        "colab": {
          "base_uri": "https://localhost:8080/"
        },
        "id": "GO62Yfmh4i4Y",
        "outputId": "315e645b-3129-4514-b0d1-a8fe22659d56"
      },
      "execution_count": 8,
      "outputs": [
        {
          "output_type": "stream",
          "name": "stdout",
          "text": [
            "[[4, 5, 6, 7, 2, 3], [8, 9, 10, 2, 3, 11]]\n"
          ]
        }
      ]
    },
    {
      "cell_type": "code",
      "source": [
        "sentences2 = [\"I like hot choclate and ice cream\"]"
      ],
      "metadata": {
        "id": "SnetNJXj4j5l"
      },
      "execution_count": 9,
      "outputs": []
    },
    {
      "cell_type": "code",
      "source": [
        "\n",
        "sequences2 = tokenizer.texts_to_sequences(sentences2)"
      ],
      "metadata": {
        "id": "7E2KjXsZ4k95"
      },
      "execution_count": 10,
      "outputs": []
    },
    {
      "cell_type": "code",
      "source": [
        "\n",
        "print(sequences2)"
      ],
      "metadata": {
        "colab": {
          "base_uri": "https://localhost:8080/"
        },
        "id": "DOh8M_-k4m6c",
        "outputId": "0b505e1b-e70a-4275-9564-504518a85f1b"
      },
      "execution_count": 11,
      "outputs": [
        {
          "output_type": "stream",
          "name": "stdout",
          "text": [
            "[[1, 10, 1, 1, 1, 2, 3]]\n"
          ]
        }
      ]
    },
    {
      "cell_type": "code",
      "source": [
        "\n",
        "# Padding\n",
        "from tensorflow.keras.preprocessing.sequence import pad_sequences\n"
      ],
      "metadata": {
        "id": "5Cta4G4e4oEw"
      },
      "execution_count": 12,
      "outputs": []
    },
    {
      "cell_type": "code",
      "source": [
        "\n",
        "sentences"
      ],
      "metadata": {
        "colab": {
          "base_uri": "https://localhost:8080/"
        },
        "id": "wBGft_qY42Bf",
        "outputId": "c36bff1c-add7-42d9-a607-db71f5312e16"
      },
      "execution_count": 13,
      "outputs": [
        {
          "output_type": "execute_result",
          "data": {
            "text/plain": [
              "['my favorite food is ice cream', 'do you like ice cream too']"
            ]
          },
          "metadata": {},
          "execution_count": 13
        }
      ]
    },
    {
      "cell_type": "code",
      "source": [
        "tokenizer = Tokenizer(num_words=100,oov_token='<OOV>')"
      ],
      "metadata": {
        "id": "Txowns2Q43T5"
      },
      "execution_count": 14,
      "outputs": []
    },
    {
      "cell_type": "code",
      "source": [
        "tokenizer.fit_on_texts(sentences)"
      ],
      "metadata": {
        "id": "VYVmIDtY44yx"
      },
      "execution_count": 15,
      "outputs": []
    },
    {
      "cell_type": "code",
      "source": [
        "\n",
        "word_index = tokenizer.word_index"
      ],
      "metadata": {
        "id": "V_31-2-845wl"
      },
      "execution_count": 16,
      "outputs": []
    },
    {
      "cell_type": "code",
      "source": [
        "print(word_index)"
      ],
      "metadata": {
        "colab": {
          "base_uri": "https://localhost:8080/"
        },
        "id": "ofdugjF847_f",
        "outputId": "0cce6e7e-2bc9-4fb4-e6c4-e9572fc538b2"
      },
      "execution_count": 17,
      "outputs": [
        {
          "output_type": "stream",
          "name": "stdout",
          "text": [
            "{'<OOV>': 1, 'ice': 2, 'cream': 3, 'my': 4, 'favorite': 5, 'food': 6, 'is': 7, 'do': 8, 'you': 9, 'like': 10, 'too': 11}\n"
          ]
        }
      ]
    },
    {
      "cell_type": "code",
      "source": [
        "sequences = tokenizer.texts_to_sequences(sentences)"
      ],
      "metadata": {
        "id": "F9vlx7S349Wy"
      },
      "execution_count": 18,
      "outputs": []
    },
    {
      "cell_type": "code",
      "source": [
        "print(sequences)"
      ],
      "metadata": {
        "colab": {
          "base_uri": "https://localhost:8080/"
        },
        "id": "1SvMoWSI4-WB",
        "outputId": "a4b437b6-62e2-4b23-aea4-64e4a7d442a8"
      },
      "execution_count": 19,
      "outputs": [
        {
          "output_type": "stream",
          "name": "stdout",
          "text": [
            "[[4, 5, 6, 7, 2, 3], [8, 9, 10, 2, 3, 11]]\n"
          ]
        }
      ]
    },
    {
      "cell_type": "code",
      "source": [
        "padded = pad_sequences(sequences)"
      ],
      "metadata": {
        "id": "DJ7zTauu4_Vw"
      },
      "execution_count": 20,
      "outputs": []
    },
    {
      "cell_type": "code",
      "source": [
        "print(padded)"
      ],
      "metadata": {
        "colab": {
          "base_uri": "https://localhost:8080/"
        },
        "id": "F4WDKDk05ARi",
        "outputId": "c6d159a3-afe8-47d8-c746-e8f818e50627"
      },
      "execution_count": 21,
      "outputs": [
        {
          "output_type": "stream",
          "name": "stdout",
          "text": [
            "[[ 4  5  6  7  2  3]\n",
            " [ 8  9 10  2  3 11]]\n"
          ]
        }
      ]
    },
    {
      "cell_type": "code",
      "source": [
        "padded = pad_sequences(sequences,maxlen=15,padding='post')\n",
        "print(padded)"
      ],
      "metadata": {
        "colab": {
          "base_uri": "https://localhost:8080/"
        },
        "id": "yP18Dwtw5BQR",
        "outputId": "47965931-0f0a-43f8-f842-071b1fd4a903"
      },
      "execution_count": 22,
      "outputs": [
        {
          "output_type": "stream",
          "name": "stdout",
          "text": [
            "[[ 4  5  6  7  2  3  0  0  0  0  0  0  0  0  0]\n",
            " [ 8  9 10  2  3 11  0  0  0  0  0  0  0  0  0]]\n"
          ]
        }
      ]
    },
    {
      "cell_type": "code",
      "source": [],
      "metadata": {
        "id": "ilwsBVH05CLJ"
      },
      "execution_count": null,
      "outputs": []
    }
  ]
}